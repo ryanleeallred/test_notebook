{
  "nbformat": 4,
  "nbformat_minor": 0,
  "metadata": {
    "colab": {
      "provenance": []
    },
    "kernelspec": {
      "name": "python3",
      "display_name": "Python 3"
    },
    "language_info": {
      "name": "python"
    },
    "gpuClass": "standard"
  },
  "cells": [
    {
      "cell_type": "markdown",
      "source": [
        "# This is some Markdown\n",
        "\n",
        "## Here's Some More\n",
        "\n",
        "This is some paragraph text\n",
        "\n",
        "- a\n",
        "- bulleted\n",
        "- list\n",
        "\n",
        "and a [link](http://google.com)."
      ],
      "metadata": {
        "id": "jUOT748Z-usv"
      }
    },
    {
      "cell_type": "code",
      "execution_count": 2,
      "metadata": {
        "id": "IVFFaTWz52H4",
        "colab": {
          "base_uri": "https://localhost:8080/"
        },
        "outputId": "a0bd9730-efdf-4820-dc9e-6b07c14be649"
      },
      "outputs": [
        {
          "output_type": "execute_result",
          "data": {
            "text/plain": [
              "130"
            ]
          },
          "metadata": {},
          "execution_count": 2
        }
      ],
      "source": [
        "def myfunc(num1, num2):\n",
        "  return (num1+num2)*10\n",
        "\n",
        "myfunc(6,7)"
      ]
    },
    {
      "cell_type": "markdown",
      "source": [
        "# This is some Markdown\n",
        "\n",
        "## Here's Some More\n",
        "\n",
        "This is some paragraph text\n",
        "\n",
        "- a\n",
        "- bulleted\n",
        "- list\n",
        "\n",
        "and a [link](http://google.com)."
      ],
      "metadata": {
        "id": "GtXaxCWA-u86"
      }
    },
    {
      "cell_type": "code",
      "source": [
        "myfunc(3,4)"
      ],
      "metadata": {
        "colab": {
          "base_uri": "https://localhost:8080/"
        },
        "id": "n7Zu7zEy-vMP",
        "outputId": "b14bad34-664f-42d4-c0d1-f11aa4488686"
      },
      "execution_count": 3,
      "outputs": [
        {
          "output_type": "execute_result",
          "data": {
            "text/plain": [
              "70"
            ]
          },
          "metadata": {},
          "execution_count": 3
        }
      ]
    },
    {
      "cell_type": "code",
      "source": [],
      "metadata": {
        "id": "WHwf-dLuEheD"
      },
      "execution_count": null,
      "outputs": []
    }
  ]
}